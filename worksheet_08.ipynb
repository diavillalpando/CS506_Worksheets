{
 "cells": [
  {
   "attachments": {},
   "cell_type": "markdown",
   "metadata": {},
   "source": [
    "# Worksheet 08\n",
    "\n",
    "Name: Dia Villalpando\n",
    "\n",
    "UID: U70784338\n",
    "\n",
    "### Topics\n",
    "\n",
    "- Soft Clustering\n",
    "- Clustering Aggregation\n",
    "\n",
    "### Probability Review\n",
    "\n",
    "Read through [the following](https://medium.com/@gallettilance/overview-of-probability-3272b72c82c8)\n",
    "\n",
    "### Soft Clustering\n",
    "\n",
    "We generate 10 data points that come from a normal distribution with mean 5 and variance 1."
   ]
  },
  {
   "cell_type": "code",
   "execution_count": 94,
   "metadata": {},
   "outputs": [
    {
     "name": "stdout",
     "output_type": "stream",
     "text": [
      "[4.194777891070683, 7.5354145408385405, 4.987009332906668, 4.891772899692095, 4.4793401879878285, 5.992101389652031, 6.324682534656361, 5.229692186689191, 4.119133631542454, 5.311222608428785]\n"
     ]
    }
   ],
   "source": [
    "import random\n",
    "import numpy as np\n",
    "from sklearn.cluster import KMeans\n",
    "\n",
    "mean = 5\n",
    "stdev = 1\n",
    "\n",
    "s1 = np.random.normal(mean, stdev, 10).tolist()\n",
    "print(s1)"
   ]
  },
  {
   "cell_type": "markdown",
   "metadata": {},
   "source": [
    "a) Generate 10 more data points, this time coming from a normal distribution with mean 8 and variance 1."
   ]
  },
  {
   "cell_type": "code",
   "execution_count": 95,
   "metadata": {},
   "outputs": [
    {
     "name": "stdout",
     "output_type": "stream",
     "text": [
      "[6.960560235218748, 7.485851208907818, 6.409014436612152, 8.356055784094282, 9.308239952182236, 7.162901472853386, 8.264190259915113, 7.970600484661782, 8.81809715488089, 8.719595272449599]\n"
     ]
    }
   ],
   "source": [
    "s2 = np.random.normal( 8 , 1 , 10 ).tolist()\n",
    "print(s2)"
   ]
  },
  {
   "cell_type": "markdown",
   "metadata": {},
   "source": [
    "b) Flip a fair coin 10 times. If the coin lands on H, then pick the last data point of `s1` and remove it from `s1`, if T then pick the last data point from `s2` and remove it from `s2`. Add these 10 points to a list called `data`."
   ]
  },
  {
   "cell_type": "code",
   "execution_count": 96,
   "metadata": {},
   "outputs": [
    {
     "name": "stdout",
     "output_type": "stream",
     "text": [
      "[5.311222608428785, 4.119133631542454, 5.229692186689191, 8.719595272449599, 6.324682534656361, 5.992101389652031, 8.81809715488089, 4.4793401879878285, 7.970600484661782, 8.264190259915113]\n"
     ]
    }
   ],
   "source": [
    "data = []\n",
    "for i in range(10):\n",
    "    # flip coin\n",
    "    coin_output = random.choice([0, 1])\n",
    "    if coin_output == 0:\n",
    "        p1 = s1.pop()\n",
    "        data.append(p1)\n",
    "    else:\n",
    "        p2 = s2.pop()\n",
    "        data.append(p2)\n",
    "print(data)"
   ]
  },
  {
   "cell_type": "markdown",
   "metadata": {},
   "source": [
    "c) This `data` is a Gaussian Mixture Distribution with 2 mixture components. Over the next few questions we will walk through the GMM algorithm to see if we can uncover the parameters we used to generate this data. First, please list all these parameters of the GMM that created `data` and the values we know they have."
   ]
  },
  {
   "cell_type": "markdown",
   "metadata": {},
   "source": [
    "- Prior Probability = 50%\n",
    "- Mean for S1 = 5\n",
    "- Variance for S1 = 1\n",
    "- Mean for S2 = 8\n",
    "- Variance for S2 = 1"
   ]
  },
  {
   "cell_type": "markdown",
   "metadata": {},
   "source": [
    "d) Let's assume there are two mixture components (note: we could plot the data and make the observation that there are two clusters). The EM algorithm asks us to start with a random `mean_j`, `variance_j`, `P(S_j)` for each component j. One method we could use to find sensible values for these is to apply K means with k=2 here.\n",
    "\n",
    "1. the centroids would be the estimates of the `mean_j`\n",
    "2. the intra-cluster variance could be the estimate of `variance_j`\n",
    "3. the proportion of points in each cluster could be the estimate of `P(S_j)`\n",
    "\n",
    "Go through this process and list the parameter estimates it gives. Are they close or far from the true values?"
   ]
  },
  {
   "cell_type": "code",
   "execution_count": 97,
   "metadata": {},
   "outputs": [
    {
     "name": "stdout",
     "output_type": "stream",
     "text": [
      "[5.311222608428785, 4.119133631542454, 5.229692186689191, 6.324682534656361, 5.992101389652031, 4.4793401879878285]\n",
      "[8.719595272449599, 8.81809715488089, 7.970600484661782, 8.264190259915113]\n",
      "P(S_1) = 0.6,  P(S_2) = 0.4\n",
      "mean_1 = 5.242695423159442,  mean_2 = 8.443120792976845\n",
      "var_1 = 0.5970454643308775,  var_2 = 0.11808424680461041\n"
     ]
    },
    {
     "name": "stderr",
     "output_type": "stream",
     "text": [
      "/Library/Frameworks/Python.framework/Versions/3.11/lib/python3.11/site-packages/sklearn/cluster/_kmeans.py:1416: FutureWarning: The default value of `n_init` will change from 10 to 'auto' in 1.4. Set the value of `n_init` explicitly to suppress the warning\n",
      "  super()._check_params_vs_input(X, default_n_init=10)\n"
     ]
    }
   ],
   "source": [
    "kmeans = KMeans(2, init='k-means++').fit(X=np.array(data).reshape(-1, 1))\n",
    "\n",
    "s1 = [x[0] for x in filter(lambda x: x[1] == 0, zip(data, kmeans.labels_))]\n",
    "print(s1)\n",
    "s2 = [x[0] for x in filter(lambda x: x[1] == 1, zip(data, kmeans.labels_))]\n",
    "print(s2)\n",
    "\n",
    "prob_s = [ len(s1) / (len(s1) + len(s2)) , len(s2) / (len(s2) + len(s1)) ]\n",
    "mean = [ sum(s1)/len(s1) , sum(s2)/len(s2) ]\n",
    "var = [ sum(map(lambda x : (x - mean[0])**2, s1)) / len(s1) , \n",
    "       sum(map(lambda x : (x - mean[1])**2, s2)) / len(s2)  ]\n",
    "\n",
    "print(\"P(S_1) = \" + str(prob_s[0]) + \",  P(S_2) = \" + str(prob_s[1]))\n",
    "print(\"mean_1 = \" + str(mean[0]) + \",  mean_2 = \" + str(mean[1]))\n",
    "print(\"var_1 = \" + str(var[0]) + \",  var_2 = \" + str(var[1]))"
   ]
  },
  {
   "cell_type": "markdown",
   "metadata": {},
   "source": [
    "e) For each data point, compute `P(S_j | X_i)`. Comment on which cluster you think each point belongs to based on the estimated probabilities. How does that compare to the truth?"
   ]
  },
  {
   "cell_type": "code",
   "execution_count": 98,
   "metadata": {},
   "outputs": [
    {
     "name": "stdout",
     "output_type": "stream",
     "text": [
      "point =  5.311222608428785\n",
      "probability of observing that point if it came from cluster 0 =  0.6638072763609609\n",
      "probability of observing that point if it came from cluster 1 =  5.986275969580693e-153\n",
      "point =  4.119133631542454\n",
      "probability of observing that point if it came from cluster 0 =  0.11373394487897692\n",
      "probability of observing that point if it came from cluster 1 =  2.3105254232109635e-291\n",
      "point =  5.229692186689191\n",
      "probability of observing that point if it came from cluster 0 =  0.6680356834855529\n",
      "probability of observing that point if it came from cluster 1 =  5.25654226279485e-161\n",
      "point =  8.719595272449599\n",
      "probability of observing that point if it came from cluster 0 =  2.8888936168712675e-08\n",
      "probability of observing that point if it came from cluster 1 =  0.21794764350867452\n",
      "point =  6.324682534656361\n",
      "probability of observing that point if it came from cluster 0 =  0.12934453055461226\n",
      "probability of observing that point if it came from cluster 1 =  4.373357856052525e-70\n",
      "point =  5.992101389652031\n",
      "probability of observing that point if it came from cluster 0 =  0.30393893308267617\n",
      "probability of observing that point if it came from cluster 1 =  9.427345787347596e-94\n",
      "point =  8.81809715488089\n",
      "probability of observing that point if it came from cluster 0 =  1.090338900553716e-08\n",
      "probability of observing that point if it came from cluster 1 =  0.021829843021692382\n",
      "point =  4.4793401879878285\n",
      "probability of observing that point if it came from cluster 0 =  0.2950744817175178\n",
      "probability of observing that point if it came from cluster 1 =  7.140256275856635e-245\n",
      "point =  7.970600484661782\n",
      "probability of observing that point if it came from cluster 0 =  1.9578271696296454e-05\n",
      "probability of observing that point if it came from cluster 1 =  0.0011263278526411026\n",
      "point =  8.264190259915113\n",
      "probability of observing that point if it came from cluster 0 =  1.8344856814902839e-06\n",
      "probability of observing that point if it came from cluster 1 =  1.0718474956030595\n",
      "5.311222608428785\n",
      "Probability of coming from S_1 = 1.0\n",
      "Probability of coming from S_2 = 6.012062218216796e-153\n",
      "\n",
      "4.119133631542454\n",
      "Probability of coming from S_1 = 1.0\n",
      "Probability of coming from S_2 = 1.354345251788912e-290\n",
      "\n",
      "5.229692186689191\n",
      "Probability of coming from S_1 = 1.0\n",
      "Probability of coming from S_2 = 5.245769941877194e-161\n",
      "\n",
      "8.719595272449599\n",
      "Probability of coming from S_1 = 1.9882479544032812e-07\n",
      "Probability of coming from S_2 = 0.9999998011752045\n",
      "\n",
      "6.324682534656361\n",
      "Probability of coming from S_1 = 1.0\n",
      "Probability of coming from S_2 = 2.2541130201125865e-69\n",
      "\n",
      "5.992101389652031\n",
      "Probability of coming from S_1 = 1.0\n",
      "Probability of coming from S_2 = 2.0678157706947906e-93\n",
      "\n",
      "8.81809715488089\n",
      "Probability of coming from S_1 = 7.492070024832779e-07\n",
      "Probability of coming from S_2 = 0.9999992507929976\n",
      "\n",
      "4.4793401879878285\n",
      "Probability of coming from S_1 = 1.0\n",
      "Probability of coming from S_2 = 1.6132099335950445e-244\n",
      "\n",
      "7.970600484661782\n",
      "Probability of coming from S_1 = 0.025411030533888088\n",
      "Probability of coming from S_2 = 0.974588969466112\n",
      "\n",
      "8.264190259915113\n",
      "Probability of coming from S_1 = 2.5672695687536337e-06\n",
      "Probability of coming from S_2 = 0.9999974327304312\n",
      "\n"
     ]
    }
   ],
   "source": [
    "from scipy.stats import norm\n",
    "\n",
    "prob_s0_x = [] # P(S_0 | X_i)\n",
    "prob_s1_x = [] # P(S_1 | X_i)\n",
    "prob_x = [] # P(X_i)\n",
    "\n",
    "k = 2\n",
    "\n",
    "for p in data:\n",
    "    print(\"point = \", p)\n",
    "    pdf_i = []\n",
    "\n",
    "    for j in range(k):\n",
    "        # P(X_i | S_j)\n",
    "        pdf_i.append(norm.pdf(p, mean[j], var[j]))\n",
    "        print(\"probability of observing that point if it came from cluster \" + str(j) + \" = \", pdf_i[j])\n",
    "        # P(S_j) already computed\n",
    "        prob_s[j]\n",
    "\n",
    "    # P(X_i) = P(S_0)P(X_i | S_0) + P(S_1)P(X_i | S_1)\n",
    "    prob_x = prob_s[0] * pdf_i[0] + prob_s[1] * pdf_i[1]\n",
    "\n",
    "    # P(S_j | X_i) = P(X_i | S_j)P(S_j) / P(X_i)\n",
    "    prob_s0_x.append( (pdf_i[0]*prob_s[0])/prob_x )\n",
    "    prob_s1_x.append( (pdf_i[1]*prob_s[1])/prob_x )\n",
    "\n",
    "probs = zip(data, prob_s0_x, prob_s1_x)\n",
    "for p in probs:\n",
    "    print(p[0])\n",
    "    print(\"Probability of coming from S_1 = \" + str(p[1]))\n",
    "    print(\"Probability of coming from S_2 = \" + str(p[2]))\n",
    "    print()\n"
   ]
  },
  {
   "cell_type": "markdown",
   "metadata": {},
   "source": [
    "f) Having computed `P(S_j | X_i)`, update the estimates of `mean_j`, `var_j`, and `P(S_j)`. How different are these values from the original ones you got from K means? briefly comment."
   ]
  },
  {
   "cell_type": "code",
   "execution_count": 99,
   "metadata": {},
   "outputs": [
    {
     "name": "stdout",
     "output_type": "stream",
     "text": [
      "P(S_1) = 0.6,  P(S_2) = 0.4\n",
      "mean_1 = 5.254201686385922,  mean_2 = 8.446141825378579\n",
      "var_1 = 0.5971778584243146,  var_2 = 0.11809337344138274\n"
     ]
    }
   ],
   "source": [
    "prob_c = [sum(prob_s0_x)/ len(prob_s0_x), sum(prob_s1_x)/ len(prob_s1_x) ]\n",
    "mean = [sum([x[0] * x[1] for x in zip(prob_s0_x, data)]) / sum(prob_s0_x), \n",
    "        sum([x[0] * x[1] for x in zip(prob_s1_x, data)]) / sum(prob_s1_x) ]\n",
    "\n",
    "# var = [ ... , ... ]\n",
    "var = [ sum(map(lambda x : (x - mean[0])**2, s1)) / len(s1) , \n",
    "       sum(map(lambda x : (x - mean[1])**2, s2)) / len(s2)  ]\n",
    "\n",
    "print(\"P(S_1) = \" + str(prob_s[0]) + \",  P(S_2) = \" + str(prob_s[1]))\n",
    "print(\"mean_1 = \" + str(mean[0]) + \",  mean_2 = \" + str(mean[1]))\n",
    "print(\"var_1 = \" + str(var[0]) + \",  var_2 = \" + str(var[1]))"
   ]
  },
  {
   "cell_type": "markdown",
   "metadata": {},
   "source": [
    "A very slight change, it feels like the means and variances all increased very slightly"
   ]
  },
  {
   "cell_type": "markdown",
   "metadata": {},
   "source": [
    "g) Update `P(S_j | X_i)`. Comment on any differences or lack thereof you observe."
   ]
  },
  {
   "cell_type": "code",
   "execution_count": 86,
   "metadata": {},
   "outputs": [
    {
     "name": "stdout",
     "output_type": "stream",
     "text": [
      "point =  4.791812535574289\n",
      "probability of observing that point if it came from cluster 0 =  0.5373403258184521\n",
      "probability of observing that point if it came from cluster 1 =  2.399469134790143e-07\n",
      "point =  8.724954520072902\n",
      "probability of observing that point if it came from cluster 0 =  2.867023494474118e-07\n",
      "probability of observing that point if it came from cluster 1 =  0.5581570442553528\n",
      "point =  3.866642330500845\n",
      "probability of observing that point if it came from cluster 0 =  0.26752587913720716\n",
      "probability of observing that point if it came from cluster 1 =  8.572828332593141e-11\n",
      "point =  4.915253969867861\n",
      "probability of observing that point if it came from cluster 0 =  0.5241392858804135\n",
      "probability of observing that point if it came from cluster 1 =  6.079844462946969e-07\n",
      "point =  7.589961458244568\n",
      "probability of observing that point if it came from cluster 0 =  0.00033431763686533867\n",
      "probability of observing that point if it came from cluster 1 =  0.19360645770287463\n",
      "point =  9.701678128784705\n",
      "probability of observing that point if it came from cluster 0 =  1.0052373771324249e-10\n",
      "probability of observing that point if it came from cluster 1 =  0.17698096690368573\n",
      "point =  9.386174163066977\n",
      "probability of observing that point if it came from cluster 0 =  1.5882049776907347e-09\n",
      "probability of observing that point if it came from cluster 1 =  0.31589183879819727\n",
      "point =  3.9309396611953353\n",
      "probability of observing that point if it came from cluster 0 =  0.2953358060920888\n",
      "probability of observing that point if it came from cluster 1 =  1.572855877786651e-10\n",
      "point =  7.777672005992876\n",
      "probability of observing that point if it came from cluster 0 =  0.0001222710412678127\n",
      "probability of observing that point if it came from cluster 1 =  0.2754793429441727\n",
      "point =  6.241206590926444\n",
      "probability of observing that point if it came from cluster 0 =  0.0696653598074164\n",
      "probability of observing that point if it came from cluster 1 =  0.0019390137212047735\n",
      "4.791812535574289\n",
      "Probability of coming from S_1 = 0.9999995937409465\n",
      "Probability of coming from S_2 = 4.062590534173294e-07\n",
      "\n",
      "8.724954520072902\n",
      "Probability of coming from S_1 = 5.353333325303986e-07\n",
      "Probability of coming from S_2 = 0.9999994646666673\n",
      "\n",
      "3.866642330500845\n",
      "Probability of coming from S_1 = 0.9999999997124526\n",
      "Probability of coming from S_2 = 2.875473599310687e-10\n",
      "\n",
      "4.915253969867861\n",
      "Probability of coming from S_1 = 0.9999989427791847\n",
      "Probability of coming from S_2 = 1.0572208152391524e-06\n",
      "\n",
      "7.589961458244568\n",
      "Probability of coming from S_1 = 0.0018225445630036306\n",
      "Probability of coming from S_2 = 0.9981774554369963\n",
      "\n",
      "9.701678128784705\n",
      "Probability of coming from S_1 = 5.849767796209714e-10\n",
      "Probability of coming from S_2 = 0.9999999994150233\n",
      "\n",
      "9.386174163066977\n",
      "Probability of coming from S_1 = 5.19761090674029e-09\n",
      "Probability of coming from S_2 = 0.9999999948023891\n",
      "\n",
      "3.9309396611953353\n",
      "Probability of coming from S_1 = 0.999999999521649\n",
      "Probability of coming from S_2 = 4.783510127617486e-10\n",
      "\n",
      "7.777672005992876\n",
      "Probability of coming from S_1 = 0.00046795239094697775\n",
      "Probability of coming from S_2 = 0.9995320476090531\n",
      "\n",
      "6.241206590926444\n",
      "Probability of coming from S_1 = 0.9748014688949662\n",
      "Probability of coming from S_2 = 0.025198531105033804\n",
      "\n"
     ]
    }
   ],
   "source": [
    "k = 2\n",
    "\n",
    "for p in data:\n",
    "    print(\"point = \", p)\n",
    "    pdf_i = []\n",
    "\n",
    "    for j in range(k):\n",
    "        # P(X_i | S_j)\n",
    "        pdf_i.append(norm.pdf(p, mean[j], var[j]))\n",
    "        print(\"probability of observing that point if it came from cluster \" + str(j) + \" = \", pdf_i[j])\n",
    "        # P(S_j) already computed\n",
    "        prob_s[j]\n",
    "\n",
    "    # P(X_i) = P(S_0)P(X_i | S_0) + P(S_1)P(X_i | S_1)\n",
    "    prob_x = prob_s[0] * pdf_i[0] + prob_s[1] * pdf_i[1]\n",
    "\n",
    "    # P(S_j | X_i) = P(X_i | S_j)P(S_j) / P(X_i)\n",
    "    prob_s0_x.append( (pdf_i[0]*prob_s[0])/prob_x )\n",
    "    prob_s1_x.append( (pdf_i[1]*prob_s[1])/prob_x )\n",
    "\n",
    "probs = zip(data, prob_s0_x, prob_s1_x)\n",
    "for p in probs:\n",
    "    print(p[0])\n",
    "    print(\"Probability of coming from S_1 = \" + str(p[1]))\n",
    "    print(\"Probability of coming from S_2 = \" + str(p[2]))\n",
    "    print()"
   ]
  },
  {
   "cell_type": "markdown",
   "metadata": {},
   "source": [
    "it looks like the values are less certain"
   ]
  },
  {
   "cell_type": "markdown",
   "metadata": {},
   "source": [
    "h) Use `P(S_j | X_i)` to create a hard assignment - label each point as belonging to a specific cluster (0 or 1)"
   ]
  },
  {
   "cell_type": "code",
   "execution_count": 101,
   "metadata": {},
   "outputs": [
    {
     "name": "stdout",
     "output_type": "stream",
     "text": [
      "5.311222608428785\n",
      "Comes from S_1\n",
      "4.119133631542454\n",
      "Comes from S_1\n",
      "5.229692186689191\n",
      "Comes from S_1\n",
      "8.719595272449599\n",
      "Comes from S_2\n",
      "6.324682534656361\n",
      "Comes from S_1\n",
      "5.992101389652031\n",
      "Comes from S_1\n",
      "8.81809715488089\n",
      "Comes from S_2\n",
      "4.4793401879878285\n",
      "Comes from S_1\n",
      "7.970600484661782\n",
      "Comes from S_2\n",
      "8.264190259915113\n",
      "Comes from S_2\n"
     ]
    }
   ],
   "source": [
    "probs = zip(data, prob_s0_x, prob_s1_x)\n",
    "for p in probs:\n",
    "    print(p[0])\n",
    "    if(p[1]>p[2]):\n",
    "        print(\"Comes from S_1\")\n",
    "    else:\n",
    "        print(\"Comes from S_2\")"
   ]
  }
 ],
 "metadata": {
  "kernelspec": {
   "display_name": "Python 3",
   "language": "python",
   "name": "python3"
  },
  "language_info": {
   "codemirror_mode": {
    "name": "ipython",
    "version": 3
   },
   "file_extension": ".py",
   "mimetype": "text/x-python",
   "name": "python",
   "nbconvert_exporter": "python",
   "pygments_lexer": "ipython3",
   "version": "3.11.1"
  },
  "orig_nbformat": 4,
  "vscode": {
   "interpreter": {
    "hash": "e7370f93d1d0cde622a1f8e1c04877d8463912d04d973331ad4851f04de6915a"
   }
  }
 },
 "nbformat": 4,
 "nbformat_minor": 2
}
