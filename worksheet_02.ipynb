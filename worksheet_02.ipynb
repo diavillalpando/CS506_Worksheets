{
 "cells": [
  {
   "attachments": {},
   "cell_type": "markdown",
   "metadata": {},
   "source": [
    "# Worksheet 02\n",
    "\n",
    "Name:  Dia Villalpando\n",
    "UID:  U70784338\n",
    "\n",
    "### Topics\n",
    "\n",
    "- Effective Programming\n",
    "\n",
    "### Effective Programming\n",
    "\n",
    "a) What is a drawback of the top down approach?"
   ]
  },
  {
   "cell_type": "markdown",
   "metadata": {},
   "source": [
    "You don't have runnable code until the very end"
   ]
  },
  {
   "cell_type": "markdown",
   "metadata": {},
   "source": [
    "b) What is a drawback of the bottom up approach?"
   ]
  },
  {
   "cell_type": "markdown",
   "metadata": {},
   "source": [
    "Odds are that you will end up spending way more time than needed (probably functions that won't be used)"
   ]
  },
  {
   "cell_type": "markdown",
   "metadata": {},
   "source": [
    "c) What are 3 things you can do to have a better debugging experience?"
   ]
  },
  {
   "cell_type": "markdown",
   "metadata": {},
   "source": [
    "1. Read the errors carefully and FULLY\n",
    "2. Check to see if things are communicating properly\n",
    "3. Don't try to solve it immediately, try to look at the bigger picture"
   ]
  },
  {
   "attachments": {},
   "cell_type": "markdown",
   "metadata": {},
   "source": [
    "d) Follow along with the live coding. You can write your code here:"
   ]
  },
  {
   "cell_type": "code",
   "execution_count": 23,
   "metadata": {},
   "outputs": [
    {
     "name": "stdout",
     "output_type": "stream",
     "text": [
      "Found a solution\n",
      "Q _ _ _ _ _ _ _ \n",
      "_ _ _ _ Q _ _ _ \n",
      "_ _ _ _ _ _ _ Q \n",
      "_ _ _ _ _ Q _ _ \n",
      "_ _ Q _ _ _ _ _ \n",
      "_ _ _ _ _ _ Q _ \n",
      "_ Q _ _ _ _ _ _ \n",
      "_ _ _ Q _ _ _ _ \n",
      "\n"
     ]
    }
   ],
   "source": [
    "# Goal: put 8 queens on a chess board where no queen can capture another\n",
    "\n",
    "class Board:\n",
    "\n",
    "    def __init__(self):\n",
    "        self.board = [[\"_\" for _ in range(8)] for _ in range(8)]\n",
    "    \n",
    "    def __repr__(self):\n",
    "        res = \"\"\n",
    "        for row in self.board:\n",
    "            for col in row:\n",
    "                res += col \n",
    "                res += \" \"\n",
    "            res += \"\\n\"\n",
    "        return res\n",
    "    \n",
    "    def is_legal_row(self,row):\n",
    "        for col in range(len(self.board)):\n",
    "            if self.board[row][col] == \"Q\":\n",
    "                return False\n",
    "        return True\n",
    "    \n",
    "    def is_legal_col(self,col):\n",
    "\n",
    "        for row in range(len(self.board)):\n",
    "            if self.board[row][col] == \"Q\":\n",
    "                return False\n",
    "        return True\n",
    "    \n",
    "    def is_on_board(self, row, col):\n",
    "        return row >=0 and row < 8 and col>= 0 and col <8 \n",
    "        # return True\n",
    "\n",
    "    def is_legal_diag(self,row,col):\n",
    "        for i in range(len(self.board)):\n",
    "            if self.is_on_board(row-i,col-i) and self.board[row-i][col-i] == \"Q\":\n",
    "                return False\n",
    "            \n",
    "        for i in range(len(self.board)):\n",
    "            if self.is_on_board(row-i,col+i) and self.board[row-i][col+i] == \"Q\":\n",
    "                return False\n",
    "            \n",
    "        for i in range(len(self.board)):\n",
    "            if self.is_on_board(row+i,col-i) and self.board[row+i][col-i] == \"Q\":\n",
    "                return False\n",
    "            \n",
    "        for i in range(len(self.board)):\n",
    "            if self.is_on_board(row+i,col+i) and self.board[row+i][col+i] == \"Q\":\n",
    "                return False\n",
    "        \n",
    "        return True\n",
    "    \n",
    "    def is_legal(self, row, col):\n",
    "        if not self.is_on_board(row,col):\n",
    "            return False\n",
    "\n",
    "        if not self.is_legal_row(row):\n",
    "            return False\n",
    "        \n",
    "        if not self.is_legal_col(col):\n",
    "            return False\n",
    "        \n",
    "        if not self.is_legal_diag(row,col):\n",
    "            return False\n",
    "\n",
    "        return True\n",
    "    \n",
    "    def get_queen_on(self, row):\n",
    "        for col in range(len(self.board)):\n",
    "            if self.board[row][col] == \"Q\":\n",
    "                return col\n",
    "        raise ValueError(\"Programmer Error\")\n",
    "    \n",
    "    def set_queen_on(self, row, col):\n",
    "        self.board[row][col] = \"Q\"\n",
    "        return\n",
    "    \n",
    "    def unset_queen_on(self, row):\n",
    "        self.board[row] = [\"_\" for _ in range(8)]\n",
    "        return\n",
    "    \n",
    "    def search(self):\n",
    "        row = 0\n",
    "        col = 0\n",
    "\n",
    "        while row < 8:\n",
    "            if self.is_legal(row,col):\n",
    "                self.set_queen_on(row,col)\n",
    "                row += 1\n",
    "                col = 0\n",
    "            else:\n",
    "                col += 1\n",
    "                if col >= 8:\n",
    "                    col = self.get_queen_on(row - 1)\n",
    "                    self.unset_queen_on(row - 1)\n",
    "                    col += 1\n",
    "                    row -= 1 \n",
    "        print(\"Found a solution\")\n",
    "        print(self)\n",
    "\n",
    "my_board = Board()\n",
    "\n",
    "my_board.search()\n"
   ]
  }
 ],
 "metadata": {
  "kernelspec": {
   "display_name": "Python 3",
   "language": "python",
   "name": "python3"
  },
  "language_info": {
   "codemirror_mode": {
    "name": "ipython",
    "version": 3
   },
   "file_extension": ".py",
   "mimetype": "text/x-python",
   "name": "python",
   "nbconvert_exporter": "python",
   "pygments_lexer": "ipython3",
   "version": "3.11.1"
  },
  "orig_nbformat": 4,
  "vscode": {
   "interpreter": {
    "hash": "76ca05dc3ea24b2e3b98cdb7774adfbb40773424bf5109b477fd793f623715af"
   }
  }
 },
 "nbformat": 4,
 "nbformat_minor": 2
}
